{
  "nbformat": 4,
  "nbformat_minor": 0,
  "metadata": {
    "colab": {
      "provenance": [],
      "mount_file_id": "1W9bT2pxAY029Fg1E0LHux48jlPPxKiLm",
      "authorship_tag": "ABX9TyNLpyGnY4kjOsaE/ixd0qO6",
      "include_colab_link": true
    },
    "kernelspec": {
      "name": "python3",
      "display_name": "Python 3"
    },
    "language_info": {
      "name": "python"
    }
  },
  "cells": [
    {
      "cell_type": "markdown",
      "metadata": {
        "id": "view-in-github",
        "colab_type": "text"
      },
      "source": [
        "<a href=\"https://colab.research.google.com/github/Manish-k723/United-Airlines/blob/main/Inventory.ipynb\" target=\"_parent\"><img src=\"https://colab.research.google.com/assets/colab-badge.svg\" alt=\"Open In Colab\"/></a>"
      ]
    },
    {
      "cell_type": "code",
      "execution_count": null,
      "metadata": {
        "id": "Luysszj_FWRf"
      },
      "outputs": [],
      "source": [
        "from zipfile import ZipFile\n",
        "with ZipFile('/content/drive/MyDrive/united.zip','r') as zip_ref:\n",
        "  zip_ref.extractall('/content')"
      ]
    },
    {
      "cell_type": "code",
      "source": [
        "import pandas as pd\n",
        "import numpy as np"
      ],
      "metadata": {
        "id": "vL3qUHlfHYGr"
      },
      "execution_count": null,
      "outputs": []
    },
    {
      "cell_type": "code",
      "source": [
        "df = pd.read_csv(\"/content/Datasets/Inflight Service_Inventory data.csv\")\n",
        "df.shape"
      ],
      "metadata": {
        "colab": {
          "base_uri": "https://localhost:8080/"
        },
        "id": "NcCY_4qtG62M",
        "outputId": "5e0718cc-e188-41ef-a4a6-3053218d681c"
      },
      "execution_count": null,
      "outputs": [
        {
          "output_type": "execute_result",
          "data": {
            "text/plain": [
              "(61267, 9)"
            ]
          },
          "metadata": {},
          "execution_count": 4
        }
      ]
    },
    {
      "cell_type": "code",
      "source": [
        "df.head()"
      ],
      "metadata": {
        "colab": {
          "base_uri": "https://localhost:8080/",
          "height": 278
        },
        "id": "UmuQQSwKHbcq",
        "outputId": "df05053e-2fa8-496f-d970-523671fe6218"
      },
      "execution_count": null,
      "outputs": [
        {
          "output_type": "execute_result",
          "data": {
            "text/plain": [
              "   flight_number departure_station_code arrival_station_code  \\\n",
              "0           2634                    IAX                  PDX   \n",
              "1           2666                    ORX                  IAX   \n",
              "2           2310                    DEX                  SAX   \n",
              "3           1712                    SFX                  CLX   \n",
              "4           1225                    LAX                  HNX   \n",
              "\n",
              "  scheduled_departure_dtl  entree_product_id  \\\n",
              "0                9/1/2022              58019   \n",
              "1                9/1/2022              60549   \n",
              "2                9/2/2022              58981   \n",
              "3                9/4/2022              58764   \n",
              "4                9/8/2022              60549   \n",
              "\n",
              "                  entree_description entree_code  planned_entree_count  \\\n",
              "0                     Belgium waffle          WF                    20   \n",
              "1  Vegetarian chili and polenta cake           V                     3   \n",
              "2                     Scrambled eggs           O                     9   \n",
              "3         Mediterranean Falafel Bowl           V                     1   \n",
              "4  Vegetarian chili and polenta cake           V                     1   \n",
              "\n",
              "   consumed_entree_count  \n",
              "0                     32  \n",
              "1                      0  \n",
              "2                      7  \n",
              "3                      0  \n",
              "4                      0  "
            ],
            "text/html": [
              "\n",
              "  <div id=\"df-bea4ce11-850f-4eb5-8b95-51996795d078\" class=\"colab-df-container\">\n",
              "    <div>\n",
              "<style scoped>\n",
              "    .dataframe tbody tr th:only-of-type {\n",
              "        vertical-align: middle;\n",
              "    }\n",
              "\n",
              "    .dataframe tbody tr th {\n",
              "        vertical-align: top;\n",
              "    }\n",
              "\n",
              "    .dataframe thead th {\n",
              "        text-align: right;\n",
              "    }\n",
              "</style>\n",
              "<table border=\"1\" class=\"dataframe\">\n",
              "  <thead>\n",
              "    <tr style=\"text-align: right;\">\n",
              "      <th></th>\n",
              "      <th>flight_number</th>\n",
              "      <th>departure_station_code</th>\n",
              "      <th>arrival_station_code</th>\n",
              "      <th>scheduled_departure_dtl</th>\n",
              "      <th>entree_product_id</th>\n",
              "      <th>entree_description</th>\n",
              "      <th>entree_code</th>\n",
              "      <th>planned_entree_count</th>\n",
              "      <th>consumed_entree_count</th>\n",
              "    </tr>\n",
              "  </thead>\n",
              "  <tbody>\n",
              "    <tr>\n",
              "      <th>0</th>\n",
              "      <td>2634</td>\n",
              "      <td>IAX</td>\n",
              "      <td>PDX</td>\n",
              "      <td>9/1/2022</td>\n",
              "      <td>58019</td>\n",
              "      <td>Belgium waffle</td>\n",
              "      <td>WF</td>\n",
              "      <td>20</td>\n",
              "      <td>32</td>\n",
              "    </tr>\n",
              "    <tr>\n",
              "      <th>1</th>\n",
              "      <td>2666</td>\n",
              "      <td>ORX</td>\n",
              "      <td>IAX</td>\n",
              "      <td>9/1/2022</td>\n",
              "      <td>60549</td>\n",
              "      <td>Vegetarian chili and polenta cake</td>\n",
              "      <td>V</td>\n",
              "      <td>3</td>\n",
              "      <td>0</td>\n",
              "    </tr>\n",
              "    <tr>\n",
              "      <th>2</th>\n",
              "      <td>2310</td>\n",
              "      <td>DEX</td>\n",
              "      <td>SAX</td>\n",
              "      <td>9/2/2022</td>\n",
              "      <td>58981</td>\n",
              "      <td>Scrambled eggs</td>\n",
              "      <td>O</td>\n",
              "      <td>9</td>\n",
              "      <td>7</td>\n",
              "    </tr>\n",
              "    <tr>\n",
              "      <th>3</th>\n",
              "      <td>1712</td>\n",
              "      <td>SFX</td>\n",
              "      <td>CLX</td>\n",
              "      <td>9/4/2022</td>\n",
              "      <td>58764</td>\n",
              "      <td>Mediterranean Falafel Bowl</td>\n",
              "      <td>V</td>\n",
              "      <td>1</td>\n",
              "      <td>0</td>\n",
              "    </tr>\n",
              "    <tr>\n",
              "      <th>4</th>\n",
              "      <td>1225</td>\n",
              "      <td>LAX</td>\n",
              "      <td>HNX</td>\n",
              "      <td>9/8/2022</td>\n",
              "      <td>60549</td>\n",
              "      <td>Vegetarian chili and polenta cake</td>\n",
              "      <td>V</td>\n",
              "      <td>1</td>\n",
              "      <td>0</td>\n",
              "    </tr>\n",
              "  </tbody>\n",
              "</table>\n",
              "</div>\n",
              "    <div class=\"colab-df-buttons\">\n",
              "\n",
              "  <div class=\"colab-df-container\">\n",
              "    <button class=\"colab-df-convert\" onclick=\"convertToInteractive('df-bea4ce11-850f-4eb5-8b95-51996795d078')\"\n",
              "            title=\"Convert this dataframe to an interactive table.\"\n",
              "            style=\"display:none;\">\n",
              "\n",
              "  <svg xmlns=\"http://www.w3.org/2000/svg\" height=\"24px\" viewBox=\"0 -960 960 960\">\n",
              "    <path d=\"M120-120v-720h720v720H120Zm60-500h600v-160H180v160Zm220 220h160v-160H400v160Zm0 220h160v-160H400v160ZM180-400h160v-160H180v160Zm440 0h160v-160H620v160ZM180-180h160v-160H180v160Zm440 0h160v-160H620v160Z\"/>\n",
              "  </svg>\n",
              "    </button>\n",
              "\n",
              "  <style>\n",
              "    .colab-df-container {\n",
              "      display:flex;\n",
              "      gap: 12px;\n",
              "    }\n",
              "\n",
              "    .colab-df-convert {\n",
              "      background-color: #E8F0FE;\n",
              "      border: none;\n",
              "      border-radius: 50%;\n",
              "      cursor: pointer;\n",
              "      display: none;\n",
              "      fill: #1967D2;\n",
              "      height: 32px;\n",
              "      padding: 0 0 0 0;\n",
              "      width: 32px;\n",
              "    }\n",
              "\n",
              "    .colab-df-convert:hover {\n",
              "      background-color: #E2EBFA;\n",
              "      box-shadow: 0px 1px 2px rgba(60, 64, 67, 0.3), 0px 1px 3px 1px rgba(60, 64, 67, 0.15);\n",
              "      fill: #174EA6;\n",
              "    }\n",
              "\n",
              "    .colab-df-buttons div {\n",
              "      margin-bottom: 4px;\n",
              "    }\n",
              "\n",
              "    [theme=dark] .colab-df-convert {\n",
              "      background-color: #3B4455;\n",
              "      fill: #D2E3FC;\n",
              "    }\n",
              "\n",
              "    [theme=dark] .colab-df-convert:hover {\n",
              "      background-color: #434B5C;\n",
              "      box-shadow: 0px 1px 3px 1px rgba(0, 0, 0, 0.15);\n",
              "      filter: drop-shadow(0px 1px 2px rgba(0, 0, 0, 0.3));\n",
              "      fill: #FFFFFF;\n",
              "    }\n",
              "  </style>\n",
              "\n",
              "    <script>\n",
              "      const buttonEl =\n",
              "        document.querySelector('#df-bea4ce11-850f-4eb5-8b95-51996795d078 button.colab-df-convert');\n",
              "      buttonEl.style.display =\n",
              "        google.colab.kernel.accessAllowed ? 'block' : 'none';\n",
              "\n",
              "      async function convertToInteractive(key) {\n",
              "        const element = document.querySelector('#df-bea4ce11-850f-4eb5-8b95-51996795d078');\n",
              "        const dataTable =\n",
              "          await google.colab.kernel.invokeFunction('convertToInteractive',\n",
              "                                                    [key], {});\n",
              "        if (!dataTable) return;\n",
              "\n",
              "        const docLinkHtml = 'Like what you see? Visit the ' +\n",
              "          '<a target=\"_blank\" href=https://colab.research.google.com/notebooks/data_table.ipynb>data table notebook</a>'\n",
              "          + ' to learn more about interactive tables.';\n",
              "        element.innerHTML = '';\n",
              "        dataTable['output_type'] = 'display_data';\n",
              "        await google.colab.output.renderOutput(dataTable, element);\n",
              "        const docLink = document.createElement('div');\n",
              "        docLink.innerHTML = docLinkHtml;\n",
              "        element.appendChild(docLink);\n",
              "      }\n",
              "    </script>\n",
              "  </div>\n",
              "\n",
              "\n",
              "<div id=\"df-9728847f-5354-426e-b45a-a0b33e504af2\">\n",
              "  <button class=\"colab-df-quickchart\" onclick=\"quickchart('df-9728847f-5354-426e-b45a-a0b33e504af2')\"\n",
              "            title=\"Suggest charts.\"\n",
              "            style=\"display:none;\">\n",
              "\n",
              "<svg xmlns=\"http://www.w3.org/2000/svg\" height=\"24px\"viewBox=\"0 0 24 24\"\n",
              "     width=\"24px\">\n",
              "    <g>\n",
              "        <path d=\"M19 3H5c-1.1 0-2 .9-2 2v14c0 1.1.9 2 2 2h14c1.1 0 2-.9 2-2V5c0-1.1-.9-2-2-2zM9 17H7v-7h2v7zm4 0h-2V7h2v10zm4 0h-2v-4h2v4z\"/>\n",
              "    </g>\n",
              "</svg>\n",
              "  </button>\n",
              "\n",
              "<style>\n",
              "  .colab-df-quickchart {\n",
              "    background-color: #E8F0FE;\n",
              "    border: none;\n",
              "    border-radius: 50%;\n",
              "    cursor: pointer;\n",
              "    display: none;\n",
              "    fill: #1967D2;\n",
              "    height: 32px;\n",
              "    padding: 0 0 0 0;\n",
              "    width: 32px;\n",
              "  }\n",
              "\n",
              "  .colab-df-quickchart:hover {\n",
              "    background-color: #E2EBFA;\n",
              "    box-shadow: 0px 1px 2px rgba(60, 64, 67, 0.3), 0px 1px 3px 1px rgba(60, 64, 67, 0.15);\n",
              "    fill: #174EA6;\n",
              "  }\n",
              "\n",
              "  [theme=dark] .colab-df-quickchart {\n",
              "    background-color: #3B4455;\n",
              "    fill: #D2E3FC;\n",
              "  }\n",
              "\n",
              "  [theme=dark] .colab-df-quickchart:hover {\n",
              "    background-color: #434B5C;\n",
              "    box-shadow: 0px 1px 3px 1px rgba(0, 0, 0, 0.15);\n",
              "    filter: drop-shadow(0px 1px 2px rgba(0, 0, 0, 0.3));\n",
              "    fill: #FFFFFF;\n",
              "  }\n",
              "</style>\n",
              "\n",
              "  <script>\n",
              "    async function quickchart(key) {\n",
              "      const charts = await google.colab.kernel.invokeFunction(\n",
              "          'suggestCharts', [key], {});\n",
              "    }\n",
              "    (() => {\n",
              "      let quickchartButtonEl =\n",
              "        document.querySelector('#df-9728847f-5354-426e-b45a-a0b33e504af2 button');\n",
              "      quickchartButtonEl.style.display =\n",
              "        google.colab.kernel.accessAllowed ? 'block' : 'none';\n",
              "    })();\n",
              "  </script>\n",
              "</div>\n",
              "    </div>\n",
              "  </div>\n"
            ]
          },
          "metadata": {},
          "execution_count": 5
        }
      ]
    },
    {
      "cell_type": "code",
      "source": [
        "df.entree_description.value_counts().head(20)"
      ],
      "metadata": {
        "colab": {
          "base_uri": "https://localhost:8080/"
        },
        "id": "12ROEAWkQywZ",
        "outputId": "9b040e79-f6ab-400c-c0b3-1090861f734d"
      },
      "execution_count": null,
      "outputs": [
        {
          "output_type": "execute_result",
          "data": {
            "text/plain": [
              "Zatar chicken                        12510\n",
              "Impossible Meatball Bowl             12226\n",
              "Brioche cheeseburger                  6168\n",
              "Scrambled eggs                        5946\n",
              "Belgium waffle                        5942\n",
              "Vegetarian chili and polenta cake     2786\n",
              "Tomato and kale baked egg             2574\n",
              "Mediterranean Falafel Bowl            2304\n",
              "Horchata steel cut oatmeal            2039\n",
              "Gingerbread French Toast              1684\n",
              "Vegetarian entree                     1050\n",
              "Classic selection cheese tray          823\n",
              "Chicken breast entree                  611\n",
              "ASIAN VEGETARIAN MEAL                  387\n",
              "Gluten-free Meal                       353\n",
              "Tapas                                  315\n",
              "Thai chicken                           313\n",
              "Seared beef short rib                  311\n",
              "Crispy Hawaiian garlic tofu            295\n",
              "Cinnamon French toast                  274\n",
              "Name: entree_description, dtype: int64"
            ]
          },
          "metadata": {},
          "execution_count": 7
        }
      ]
    },
    {
      "cell_type": "code",
      "source": [
        "import matplotlib.pyplot as plt\n",
        "import seaborn as sns\n",
        "import plotly.express as px"
      ],
      "metadata": {
        "id": "kNewNSz_TENV"
      },
      "execution_count": null,
      "outputs": []
    },
    {
      "cell_type": "code",
      "source": [
        "plt.figure(figsize = (4, 2))\n",
        "sns.kdeplot(data = df, x = 'consumed_entree_count', color = 'red', label = 'Consumption')\n",
        "sns.kdeplot(data = df, x = 'planned_entree_count', color = 'green', label = 'Planned')\n",
        "plt.legend()"
      ],
      "metadata": {
        "colab": {
          "base_uri": "https://localhost:8080/",
          "height": 251
        },
        "id": "B2GBN1lYTQY5",
        "outputId": "468c9356-bb4a-475f-8885-2a1dcf84d6b1"
      },
      "execution_count": null,
      "outputs": [
        {
          "output_type": "execute_result",
          "data": {
            "text/plain": [
              "<matplotlib.legend.Legend at 0x78783db25db0>"
            ]
          },
          "metadata": {},
          "execution_count": 24
        },
        {
          "output_type": "display_data",
          "data": {
            "text/plain": [
              "<Figure size 400x200 with 1 Axes>"
            ],
            "image/png": "[encoded data removed]"
          },
          "metadata": {}
        }
      ]
    },
    {
      "cell_type": "code",
      "source": [
        "df.entree_code.value_counts().head(20)"
      ],
      "metadata": {
        "colab": {
          "base_uri": "https://localhost:8080/"
        },
        "id": "WQlUwawuUAfS",
        "outputId": "fa512711-8be6-4d28-82d3-3342f5bd37e1"
      },
      "execution_count": null,
      "outputs": [
        {
          "output_type": "execute_result",
          "data": {
            "text/plain": [
              "V     17771\n",
              "C     13923\n",
              "O      6974\n",
              "B      6655\n",
              "WF     5942\n",
              "E      2855\n",
              "OM     2111\n",
              "FT     1983\n",
              "FB      535\n",
              "VG      439\n",
              "AV      387\n",
              "P       376\n",
              "GF      353\n",
              "O2      315\n",
              "KS      264\n",
              "BR      159\n",
              "S        81\n",
              "F        62\n",
              "PK       28\n",
              "SF       10\n",
              "Name: entree_code, dtype: int64"
            ]
          },
          "metadata": {},
          "execution_count": 25
        }
      ]
    }
  ]
}